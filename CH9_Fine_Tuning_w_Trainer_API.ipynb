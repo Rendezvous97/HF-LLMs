{
 "cells": [
  {
   "cell_type": "markdown",
   "metadata": {},
   "source": [
    "# Fine-tuning a model with the Trainer API\n",
    "\n",
    "🤗 Transformers provides a Trainer class to help you fine-tune any of the pretrained models it provides on your dataset with modern best practices. Once you’ve done all the data preprocessing work in the last section, you have just a few steps left to define the Trainer. The hardest part is likely to be preparing the environment to run Trainer.train(), as it will run very slowly on a CPU. If you don’t have a GPU set up, you can get access to free GPUs or TPUs on Google Colab."
   ]
  },
  {
   "cell_type": "code",
   "execution_count": 17,
   "metadata": {},
   "outputs": [
    {
     "data": {
      "application/vnd.jupyter.widget-view+json": {
       "model_id": "2f85563469d24644ae47c4dd8bc96c0c",
       "version_major": 2,
       "version_minor": 0
      },
      "text/plain": [
       "Map:   0%|          | 0/3668 [00:00<?, ? examples/s]"
      ]
     },
     "metadata": {},
     "output_type": "display_data"
    },
    {
     "data": {
      "application/vnd.jupyter.widget-view+json": {
       "model_id": "b228ef9ba3414901b9e63b0390d085dc",
       "version_major": 2,
       "version_minor": 0
      },
      "text/plain": [
       "Map:   0%|          | 0/408 [00:00<?, ? examples/s]"
      ]
     },
     "metadata": {},
     "output_type": "display_data"
    },
    {
     "data": {
      "application/vnd.jupyter.widget-view+json": {
       "model_id": "883044a75959445aa6da3d712e9588e7",
       "version_major": 2,
       "version_minor": 0
      },
      "text/plain": [
       "Map:   0%|          | 0/1725 [00:00<?, ? examples/s]"
      ]
     },
     "metadata": {},
     "output_type": "display_data"
    }
   ],
   "source": [
    "from datasets import load_dataset\n",
    "from transformers import AutoTokenizer, DataCollatorWithPadding\n",
    "\n",
    "raw_datasets = load_dataset(\"glue\", \"mrpc\")\n",
    "checkpoint = \"bert-base-cased\"\n",
    "tokenizer = AutoTokenizer.from_pretrained(checkpoint)\n",
    "\n",
    "def tokenize_function(example):\n",
    "    return tokenizer(example[\"sentence1\"], example[\"sentence2\"], truncation=True)\n",
    "\n",
    "tokenized_datasets = raw_datasets.map(tokenize_function, batched=True)\n",
    "\n",
    "data_collator = DataCollatorWithPadding(tokenizer=tokenizer)\n",
    "\n"
   ]
  },
  {
   "cell_type": "markdown",
   "metadata": {},
   "source": [
    "## Training\n",
    "\n",
    "The first step before we can define our Trainer is to define a TrainingArguments class that will contain all the hyperparameters the Trainer will use for training and evaluation. The only argument you have to provide is a directory where the trained model will be saved, as well as the checkpoints along the way. For all the rest, you can leave the defaults, which should work pretty well for a basic fine-tuning."
   ]
  },
  {
   "cell_type": "code",
   "execution_count": 4,
   "metadata": {},
   "outputs": [],
   "source": [
    "from transformers import TrainingArguments\n",
    "\n",
    "training_args = TrainingArguments(\"models/test-trainer\")"
   ]
  },
  {
   "cell_type": "markdown",
   "metadata": {},
   "source": [
    "If you want to automatically upload your model to the Hub during training, pass along push_to_hub=True in the TrainingArguments."
   ]
  },
  {
   "cell_type": "markdown",
   "metadata": {},
   "source": [
    "The second step is to define our model. As in the previous chapter, we will use the AutoModelForSequenceClassification class, with two labels:"
   ]
  },
  {
   "cell_type": "code",
   "execution_count": 5,
   "metadata": {},
   "outputs": [
    {
     "name": "stderr",
     "output_type": "stream",
     "text": [
      "Some weights of BertForSequenceClassification were not initialized from the model checkpoint at bert-base-uncased and are newly initialized: ['classifier.bias', 'classifier.weight']\n",
      "You should probably TRAIN this model on a down-stream task to be able to use it for predictions and inference.\n"
     ]
    }
   ],
   "source": [
    "from transformers import AutoModelForSequenceClassification\n",
    "\n",
    "model = AutoModelForSequenceClassification.from_pretrained(checkpoint, num_labels=2)"
   ]
  },
  {
   "cell_type": "markdown",
   "metadata": {},
   "source": [
    "You will notice that unlike in Chapter 2, you get a warning after instantiating this pretrained model. This is because BERT has not been pretrained on classifying pairs of sentences, so the head of the pretrained model has been discarded and a new head suitable for sequence classification has been added instead. The warnings indicate that some weights were not used (the ones corresponding to the dropped pretraining head) and that some others were randomly initialized (the ones for the new head). It concludes by encouraging you to train the model, which is exactly what we are going to do now.\n",
    "\n",
    "Once we have our model, we can define a Trainer by passing it all the objects constructed up to now — the model, the training_args, the training and validation datasets, our data_collator, and our processing_class. The processing_class parameter is a newer addition that tells the Trainer which tokenizer to use for processing:"
   ]
  },
  {
   "cell_type": "code",
   "execution_count": 6,
   "metadata": {},
   "outputs": [],
   "source": [
    "from transformers import Trainer\n",
    "\n",
    "trainer = Trainer(\n",
    "    model,\n",
    "    training_args,\n",
    "    train_dataset=tokenized_datasets[\"train\"],\n",
    "    eval_dataset=tokenized_datasets[\"validation\"],\n",
    "    data_collator=data_collator,\n",
    "    processing_class=tokenizer,\n",
    ")"
   ]
  },
  {
   "cell_type": "markdown",
   "metadata": {},
   "source": [
    "When you pass a tokenizer as the processing_class, the default data_collator used by the Trainer will be a DataCollatorWithPadding. You can skip the data_collator=data_collator line in this case, but we included it here to show you this important part of the processing pipeline."
   ]
  },
  {
   "cell_type": "markdown",
   "metadata": {},
   "source": [
    "To fine-tune the model on our dataset, we just have to call the train() method of our Trainer:"
   ]
  },
  {
   "cell_type": "code",
   "execution_count": 7,
   "metadata": {},
   "outputs": [
    {
     "name": "stderr",
     "output_type": "stream",
     "text": [
      "/opt/miniconda3/envs/py3-12-LLM/lib/python3.12/site-packages/torch/utils/data/dataloader.py:683: UserWarning: 'pin_memory' argument is set as true but not supported on MPS now, then device pinned memory won't be used.\n",
      "  warnings.warn(warn_msg)\n"
     ]
    },
    {
     "data": {
      "text/html": [
       "\n",
       "    <div>\n",
       "      \n",
       "      <progress value='1377' max='1377' style='width:300px; height:20px; vertical-align: middle;'></progress>\n",
       "      [1377/1377 07:23, Epoch 3/3]\n",
       "    </div>\n",
       "    <table border=\"1\" class=\"dataframe\">\n",
       "  <thead>\n",
       " <tr style=\"text-align: left;\">\n",
       "      <th>Step</th>\n",
       "      <th>Training Loss</th>\n",
       "    </tr>\n",
       "  </thead>\n",
       "  <tbody>\n",
       "    <tr>\n",
       "      <td>500</td>\n",
       "      <td>0.551300</td>\n",
       "    </tr>\n",
       "    <tr>\n",
       "      <td>1000</td>\n",
       "      <td>0.362100</td>\n",
       "    </tr>\n",
       "  </tbody>\n",
       "</table><p>"
      ],
      "text/plain": [
       "<IPython.core.display.HTML object>"
      ]
     },
     "metadata": {},
     "output_type": "display_data"
    },
    {
     "name": "stderr",
     "output_type": "stream",
     "text": [
      "/opt/miniconda3/envs/py3-12-LLM/lib/python3.12/site-packages/torch/utils/data/dataloader.py:683: UserWarning: 'pin_memory' argument is set as true but not supported on MPS now, then device pinned memory won't be used.\n",
      "  warnings.warn(warn_msg)\n"
     ]
    },
    {
     "data": {
      "text/plain": [
       "TrainOutput(global_step=1377, training_loss=0.4069053356250993, metrics={'train_runtime': 446.561, 'train_samples_per_second': 24.642, 'train_steps_per_second': 3.084, 'total_flos': 405114969714960.0, 'train_loss': 0.4069053356250993, 'epoch': 3.0})"
      ]
     },
     "execution_count": 7,
     "metadata": {},
     "output_type": "execute_result"
    }
   ],
   "source": [
    "trainer.train()"
   ]
  },
  {
   "cell_type": "markdown",
   "metadata": {},
   "source": [
    "This will start the fine-tuning (which should take a couple of minutes on a GPU) and report the training loss every 500 steps. It won’t, however, tell you how well (or badly) your model is performing. This is because:\n",
    "\n",
    "    - We didn’t tell the Trainer to evaluate during training by setting eval_strategy in TrainingArguments to either \"steps\" (evaluate every eval_steps) or \"epoch\" (evaluate at the end of each epoch).\n",
    "    - We didn’t provide the Trainer with a compute_metrics() function to calculate a metric during said evaluation (otherwise the evaluation would just have printed the loss, which is not a very intuitive number)."
   ]
  },
  {
   "cell_type": "code",
   "execution_count": 8,
   "metadata": {},
   "outputs": [
    {
     "name": "stdout",
     "output_type": "stream",
     "text": [
      "mps:0\n"
     ]
    }
   ],
   "source": [
    "print(trainer.model.device)"
   ]
  },
  {
   "cell_type": "markdown",
   "metadata": {},
   "source": [
    "## Evaluation\n",
    "\n",
    "Let’s see how we can build a useful compute_metrics() function and use it the next time we train. The function must take an EvalPrediction object (which is a named tuple with a predictions field and a label_ids field) and will return a dictionary mapping strings to floats (the strings being the names of the metrics returned, and the floats their values). To get some predictions from our model, we can use the Trainer.predict() command:"
   ]
  },
  {
   "cell_type": "code",
   "execution_count": 9,
   "metadata": {},
   "outputs": [
    {
     "name": "stderr",
     "output_type": "stream",
     "text": [
      "/opt/miniconda3/envs/py3-12-LLM/lib/python3.12/site-packages/torch/utils/data/dataloader.py:683: UserWarning: 'pin_memory' argument is set as true but not supported on MPS now, then device pinned memory won't be used.\n",
      "  warnings.warn(warn_msg)\n"
     ]
    },
    {
     "data": {
      "text/html": [],
      "text/plain": [
       "<IPython.core.display.HTML object>"
      ]
     },
     "metadata": {},
     "output_type": "display_data"
    },
    {
     "name": "stdout",
     "output_type": "stream",
     "text": [
      "(408, 2) (408,)\n"
     ]
    }
   ],
   "source": [
    "predictions = trainer.predict(tokenized_datasets[\"validation\"])\n",
    "print(predictions.predictions.shape, predictions.label_ids.shape)"
   ]
  },
  {
   "cell_type": "code",
   "execution_count": 10,
   "metadata": {},
   "outputs": [
    {
     "name": "stdout",
     "output_type": "stream",
     "text": [
      "PredictionOutput(predictions=array([[-2.8870213 ,  2.3135812 ],\n",
      "       [ 2.3134513 , -2.24357   ],\n",
      "       [ 1.107546  , -1.4066092 ],\n",
      "       [-2.6358917 ,  2.2350938 ],\n",
      "       [ 1.967808  , -1.8791448 ],\n",
      "       [-2.783668  ,  2.2782025 ],\n",
      "       [-2.230564  ,  2.1223147 ],\n",
      "       [-2.8628385 ,  2.2999573 ],\n",
      "       [-2.7426379 ,  2.2635987 ],\n",
      "       [-2.8846338 ,  2.3074014 ],\n",
      "       [-2.8873045 ,  2.3120897 ],\n",
      "       [ 2.138187  , -2.1208515 ],\n",
      "       [ 2.2049885 , -2.1633606 ],\n",
      "       [-2.8018634 ,  2.2839217 ],\n",
      "       [-2.8935478 ,  2.315222  ],\n",
      "       [-0.8950591 ,  1.2687435 ],\n",
      "       [-2.9072216 ,  2.3013299 ],\n",
      "       [ 1.8400837 , -1.9532863 ],\n",
      "       [-2.8983247 ,  2.3123238 ],\n",
      "       [ 1.4723455 , -1.4415057 ],\n",
      "       [ 2.0850532 , -2.0512216 ],\n",
      "       [-1.5399396 ,  1.2730197 ],\n",
      "       [ 1.8735489 , -1.9165372 ],\n",
      "       [-2.8766706 ,  2.3041017 ],\n",
      "       [-2.8878763 ,  2.302706  ],\n",
      "       [-1.8244686 ,  1.8435738 ],\n",
      "       [-2.0429893 ,  2.0182455 ],\n",
      "       [-2.9145603 ,  2.3055186 ],\n",
      "       [-2.8262599 ,  2.297795  ],\n",
      "       [-2.8619716 ,  2.2998245 ],\n",
      "       [-1.7077551 ,  1.7780389 ],\n",
      "       [-2.899216  ,  2.3126924 ],\n",
      "       [-2.8654954 ,  2.3073967 ],\n",
      "       [ 0.32864708, -0.9629133 ],\n",
      "       [-2.8388298 ,  2.2992625 ],\n",
      "       [-2.0511286 ,  2.018875  ],\n",
      "       [ 1.735     , -1.5855705 ],\n",
      "       [ 1.6392709 , -1.6221297 ],\n",
      "       [-2.6040235 ,  2.2232134 ],\n",
      "       [-2.9058254 ,  2.313729  ],\n",
      "       [ 2.1685853 , -2.157715  ],\n",
      "       [-2.5140219 ,  2.203397  ],\n",
      "       [ 1.2204534 , -1.5300809 ],\n",
      "       [ 1.8041219 , -1.7603031 ],\n",
      "       [ 1.8237579 , -1.8071891 ],\n",
      "       [-2.8790007 ,  2.3072052 ],\n",
      "       [-2.6418197 ,  2.2419403 ],\n",
      "       [ 2.1703455 , -2.1161458 ],\n",
      "       [-2.8579247 ,  2.297658  ],\n",
      "       [-2.712853  ,  2.2569315 ],\n",
      "       [-2.640421  ,  2.2411346 ],\n",
      "       [-2.5556066 ,  2.2269924 ],\n",
      "       [-2.8618248 ,  2.2990162 ],\n",
      "       [-2.8321607 ,  2.290537  ],\n",
      "       [-2.875591  ,  2.3051703 ],\n",
      "       [-2.749994  ,  2.2717364 ],\n",
      "       [-1.2528003 , -0.02915731],\n",
      "       [-2.8464048 ,  2.2967212 ],\n",
      "       [-2.857979  ,  2.2974386 ],\n",
      "       [-2.6314268 ,  2.2432954 ],\n",
      "       [-1.2034551 ,  1.0926627 ],\n",
      "       [ 0.59747535, -1.0797209 ],\n",
      "       [-2.8694031 ,  2.2924576 ],\n",
      "       [-2.2698715 ,  2.1443207 ],\n",
      "       [-2.6464157 ,  2.2445736 ],\n",
      "       [ 1.9979838 , -1.9055405 ],\n",
      "       [-2.9104595 ,  2.310257  ],\n",
      "       [-2.9041932 ,  2.3112693 ],\n",
      "       [ 0.295844  , -1.1280485 ],\n",
      "       [-2.8387864 ,  2.2965    ],\n",
      "       [-2.8714676 ,  2.3072152 ],\n",
      "       [-1.0832012 ,  1.1325737 ],\n",
      "       [-2.8681421 ,  2.3054101 ],\n",
      "       [-2.855066  ,  2.2876375 ],\n",
      "       [-2.3948538 ,  2.1739266 ],\n",
      "       [-2.651024  ,  2.235609  ],\n",
      "       [-2.0700676 ,  2.0092795 ],\n",
      "       [-2.8975542 ,  2.3047302 ],\n",
      "       [-2.8115609 ,  2.2874553 ],\n",
      "       [-2.8300486 ,  2.2874634 ],\n",
      "       [-2.3892307 ,  2.1669967 ],\n",
      "       [-2.5908642 ,  2.227641  ],\n",
      "       [-2.8909557 ,  2.2992055 ],\n",
      "       [ 1.15322   , -1.1933352 ],\n",
      "       [-2.8693857 ,  2.3063374 ],\n",
      "       [-2.7683442 ,  2.2695973 ],\n",
      "       [-2.4950426 ,  2.205424  ],\n",
      "       [-1.1905756 ,  0.0316004 ],\n",
      "       [-2.8741617 ,  2.3038833 ],\n",
      "       [-2.9182682 ,  2.30821   ],\n",
      "       [-2.2188022 ,  2.1251564 ],\n",
      "       [-2.762408  ,  2.276779  ],\n",
      "       [-2.8115516 ,  2.2872856 ],\n",
      "       [-2.8445227 ,  2.2894628 ],\n",
      "       [-2.8545732 ,  2.297602  ],\n",
      "       [-2.8961468 ,  2.3101852 ],\n",
      "       [ 1.9760815 , -1.951687  ],\n",
      "       [-2.5654771 ,  2.2122948 ],\n",
      "       [-2.773393  ,  2.2694318 ],\n",
      "       [-2.8596258 ,  2.296166  ],\n",
      "       [-2.7781913 ,  2.2752244 ],\n",
      "       [ 0.08905345, -0.7280017 ],\n",
      "       [-2.5753517 ,  2.2167163 ],\n",
      "       [-2.8709967 ,  2.3044405 ],\n",
      "       [ 1.3602464 , -1.4496757 ],\n",
      "       [-2.7960818 ,  2.2808464 ],\n",
      "       [-2.8383684 ,  2.2930684 ],\n",
      "       [ 1.731953  , -1.7303892 ],\n",
      "       [ 1.6005292 , -1.5003947 ],\n",
      "       [-2.5832517 ,  2.212449  ],\n",
      "       [-1.6954547 ,  1.7570044 ],\n",
      "       [-0.6373966 ,  0.9785655 ],\n",
      "       [-2.871419  ,  2.3147857 ],\n",
      "       [-2.9127877 ,  2.3096898 ],\n",
      "       [-2.6405423 ,  2.2302108 ],\n",
      "       [ 2.317311  , -2.2501032 ],\n",
      "       [-2.8386786 ,  2.297379  ],\n",
      "       [-2.8776572 ,  2.3022258 ],\n",
      "       [-2.8578732 ,  2.2983992 ],\n",
      "       [-2.9057868 ,  2.312023  ],\n",
      "       [-2.8872583 ,  2.3001444 ],\n",
      "       [-2.4994087 ,  2.1981542 ],\n",
      "       [ 1.730476  , -1.641251  ],\n",
      "       [-2.2635024 ,  2.1620367 ],\n",
      "       [-2.8771257 ,  2.3067772 ],\n",
      "       [-2.8502421 ,  2.303805  ],\n",
      "       [-2.8688273 ,  2.3033113 ],\n",
      "       [ 1.8722845 , -1.8507189 ],\n",
      "       [-2.906395  ,  2.3141048 ],\n",
      "       [-2.7870357 ,  2.2921672 ],\n",
      "       [-2.815997  ,  2.2909095 ],\n",
      "       [ 1.5498387 , -1.7079946 ],\n",
      "       [-2.8251445 ,  2.284043  ],\n",
      "       [-0.87400985,  0.42718112],\n",
      "       [-2.4844584 ,  2.1943996 ],\n",
      "       [-2.3399165 ,  2.1601121 ],\n",
      "       [-2.421112  ,  2.195182  ],\n",
      "       [ 2.2249892 , -2.1953104 ],\n",
      "       [-2.9046786 ,  2.310467  ],\n",
      "       [-2.8649995 ,  2.3021991 ],\n",
      "       [-2.8949907 ,  2.3102555 ],\n",
      "       [-1.0124367 ,  1.2592529 ],\n",
      "       [ 2.2672794 , -2.2025936 ],\n",
      "       [-2.1330957 ,  2.0941942 ],\n",
      "       [ 2.1145241 , -2.0670815 ],\n",
      "       [-1.9367641 ,  1.9358972 ],\n",
      "       [-2.8967268 ,  2.309748  ],\n",
      "       [ 1.2928402 , -1.4344071 ],\n",
      "       [-1.0137861 ,  0.7117013 ],\n",
      "       [-2.7600071 ,  2.2658384 ],\n",
      "       [ 1.9942068 , -1.8889259 ],\n",
      "       [-2.8641856 ,  2.3055966 ],\n",
      "       [-2.1014647 ,  2.06626   ],\n",
      "       [-2.8849814 ,  2.308664  ],\n",
      "       [-1.8307955 ,  1.841175  ],\n",
      "       [-2.7365997 ,  2.271498  ],\n",
      "       [-2.8097827 ,  2.2862518 ],\n",
      "       [-2.7781985 ,  2.2774117 ],\n",
      "       [ 1.0556791 , -1.3363308 ],\n",
      "       [-2.7981045 ,  2.2771957 ],\n",
      "       [-2.8616884 ,  2.2878108 ],\n",
      "       [-2.5084896 ,  2.2267256 ],\n",
      "       [-2.9016964 ,  2.317099  ],\n",
      "       [-2.9019551 ,  2.2956536 ],\n",
      "       [-2.2593124 ,  2.1489785 ],\n",
      "       [-2.694143  ,  2.250446  ],\n",
      "       [-2.5707557 ,  2.214366  ],\n",
      "       [ 0.9388378 , -1.1506265 ],\n",
      "       [-2.7547438 ,  2.2675397 ],\n",
      "       [ 2.0884545 , -2.0853403 ],\n",
      "       [-1.9867433 ,  1.9847778 ],\n",
      "       [ 1.1077381 , -1.18422   ],\n",
      "       [-1.2659533 ,  1.3282187 ],\n",
      "       [-2.6664276 ,  2.2394927 ],\n",
      "       [-2.253239  ,  2.142198  ],\n",
      "       [-2.6706657 ,  2.2474277 ],\n",
      "       [-2.7536554 ,  2.2604535 ],\n",
      "       [ 1.8488197 , -1.8300022 ],\n",
      "       [-2.8519852 ,  2.2970524 ],\n",
      "       [-2.8606262 ,  2.3030622 ],\n",
      "       [-2.2762563 ,  2.1538577 ],\n",
      "       [ 1.5964098 , -1.6967143 ],\n",
      "       [-2.903095  ,  2.3146198 ],\n",
      "       [-2.8743603 ,  2.3036106 ],\n",
      "       [-2.2428133 ,  2.1517274 ],\n",
      "       [ 0.5567397 , -1.139589  ],\n",
      "       [ 1.7691357 , -1.7304342 ],\n",
      "       [ 1.9137207 , -1.9449888 ],\n",
      "       [ 2.2173975 , -2.178139  ],\n",
      "       [-2.844662  ,  2.2980578 ],\n",
      "       [-2.8437274 ,  2.3018172 ],\n",
      "       [ 2.2717721 , -2.2033188 ],\n",
      "       [ 1.1153044 , -1.418286  ],\n",
      "       [-2.8871827 ,  2.306329  ],\n",
      "       [-1.3525445 ,  1.2253659 ],\n",
      "       [-2.7324178 ,  2.2636406 ],\n",
      "       [-2.8889105 ,  2.3089578 ],\n",
      "       [-1.7958353 ,  1.7971654 ],\n",
      "       [-2.4612372 ,  2.2054667 ],\n",
      "       [-2.7619429 ,  2.2696772 ],\n",
      "       [-2.772673  ,  2.2788687 ],\n",
      "       [-0.92169845,  1.1227032 ],\n",
      "       [-1.3128892 ,  1.2302564 ],\n",
      "       [-2.63796   ,  2.2392805 ],\n",
      "       [-2.8089395 ,  2.2831857 ],\n",
      "       [ 2.0959158 , -2.0680306 ],\n",
      "       [-2.7607193 ,  2.2774866 ],\n",
      "       [-2.1229708 ,  2.0565994 ],\n",
      "       [ 1.8812813 , -1.8794057 ],\n",
      "       [-0.700644  ,  0.9067493 ],\n",
      "       [ 1.1746521 , -1.3348498 ],\n",
      "       [-2.891026  ,  2.3069227 ],\n",
      "       [-2.2956803 ,  2.1407278 ],\n",
      "       [ 2.2903006 , -2.1927578 ],\n",
      "       [-2.8733838 ,  2.3078024 ],\n",
      "       [-2.9060395 ,  2.312513  ],\n",
      "       [-2.2888749 ,  2.1521275 ],\n",
      "       [-2.2983425 ,  2.1739197 ],\n",
      "       [ 1.9821173 , -1.904941  ],\n",
      "       [-2.8183737 ,  2.2894104 ],\n",
      "       [-2.2713244 ,  2.1593955 ],\n",
      "       [-2.3320801 ,  2.1766078 ],\n",
      "       [-2.8524816 ,  2.297865  ],\n",
      "       [ 2.1396224 , -2.1167192 ],\n",
      "       [-2.8717306 ,  2.3028474 ],\n",
      "       [-2.84137   ,  2.2954648 ],\n",
      "       [-2.8970304 ,  2.3117082 ],\n",
      "       [-2.7352607 ,  2.2578785 ],\n",
      "       [-2.784815  ,  2.2769008 ],\n",
      "       [-2.777949  ,  2.2732165 ],\n",
      "       [-2.8901443 ,  2.3130367 ],\n",
      "       [-2.8820572 ,  2.3087974 ],\n",
      "       [-1.3815733 ,  0.63449144],\n",
      "       [ 1.2664629 , -1.4172031 ],\n",
      "       [ 0.04182002, -0.9089024 ],\n",
      "       [ 1.3865535 , -1.533697  ],\n",
      "       [-2.6737375 ,  2.2428262 ],\n",
      "       [ 2.1397765 , -2.043235  ],\n",
      "       [-2.8508484 ,  2.2972605 ],\n",
      "       [-2.4585073 ,  2.186086  ],\n",
      "       [-2.7774193 ,  2.2722297 ],\n",
      "       [ 2.1289928 , -2.0230052 ],\n",
      "       [-1.656769  ,  1.725642  ],\n",
      "       [-2.1491444 ,  2.0627558 ],\n",
      "       [-2.3877985 ,  2.2151902 ],\n",
      "       [-2.8724372 ,  2.3077366 ],\n",
      "       [-2.4610767 ,  2.182391  ],\n",
      "       [-2.2838886 ,  2.1428883 ],\n",
      "       [-2.6541927 ,  2.2378228 ],\n",
      "       [-2.6980224 ,  2.2532403 ],\n",
      "       [-2.7140124 ,  2.263786  ],\n",
      "       [ 1.6864892 , -1.61006   ],\n",
      "       [ 1.4268289 , -1.4636006 ],\n",
      "       [-1.9116746 ,  1.9144952 ],\n",
      "       [ 1.2333536 , -1.296935  ],\n",
      "       [ 2.3778183 , -2.286176  ],\n",
      "       [-2.8571784 ,  2.2938073 ],\n",
      "       [-2.613737  ,  2.2309518 ],\n",
      "       [-2.1229906 ,  2.0777023 ],\n",
      "       [ 2.0617101 , -2.084919  ],\n",
      "       [-2.5720665 ,  2.2298605 ],\n",
      "       [-2.5017583 ,  2.1948812 ],\n",
      "       [-2.7136176 ,  2.2529812 ],\n",
      "       [-2.660195  ,  2.2417293 ],\n",
      "       [-2.6127872 ,  2.231902  ],\n",
      "       [ 1.5747688 , -1.5353863 ],\n",
      "       [-2.6820922 ,  2.2446887 ],\n",
      "       [ 2.0568726 , -2.0196397 ],\n",
      "       [ 0.3165412 , -0.93824697],\n",
      "       [-2.7991006 ,  2.279888  ],\n",
      "       [ 2.0553918 , -1.9548426 ],\n",
      "       [-2.8251383 ,  2.2914646 ],\n",
      "       [-2.8723905 ,  2.3062966 ],\n",
      "       [-2.8855748 ,  2.3090608 ],\n",
      "       [-2.7932699 ,  2.2824442 ],\n",
      "       [-2.7451756 ,  2.267742  ],\n",
      "       [-2.729409  ,  2.2576072 ],\n",
      "       [-1.1050354 , -0.22084773],\n",
      "       [-2.2221634 ,  2.123029  ],\n",
      "       [ 2.088794  , -1.9956535 ],\n",
      "       [-2.528083  ,  2.203286  ],\n",
      "       [-2.6062496 ,  2.2296631 ],\n",
      "       [ 0.31168026, -0.9385679 ],\n",
      "       [ 2.1061852 , -2.0596287 ],\n",
      "       [ 1.9795893 , -1.9585336 ],\n",
      "       [-2.8657937 ,  2.3004806 ],\n",
      "       [-2.8676176 ,  2.3028467 ],\n",
      "       [-2.4623997 ,  2.1821842 ],\n",
      "       [-2.7853267 ,  2.2769876 ],\n",
      "       [ 1.3442333 , -1.5488876 ],\n",
      "       [-1.9762175 ,  1.9379572 ],\n",
      "       [ 2.0405457 , -1.9982883 ],\n",
      "       [-2.8853984 ,  2.3098872 ],\n",
      "       [-2.7104928 ,  2.2431314 ],\n",
      "       [-2.7623093 ,  2.2673159 ],\n",
      "       [ 1.722687  , -1.6736805 ],\n",
      "       [ 1.8547269 , -1.7805444 ],\n",
      "       [-2.3942525 ,  2.1983516 ],\n",
      "       [-2.8849337 ,  2.30777   ],\n",
      "       [-1.3209312 ,  1.2229663 ],\n",
      "       [-2.8797963 ,  2.309179  ],\n",
      "       [-2.3846514 ,  2.2012298 ],\n",
      "       [-2.7035131 ,  2.2590585 ],\n",
      "       [ 1.712393  , -1.5110056 ],\n",
      "       [-2.898733  ,  2.28345   ],\n",
      "       [-2.8869278 ,  2.3055696 ],\n",
      "       [ 2.2102172 , -2.172976  ],\n",
      "       [-2.876831  ,  2.305527  ],\n",
      "       [ 1.9509541 , -1.8718673 ],\n",
      "       [-2.497944  ,  2.1953492 ],\n",
      "       [-2.8749769 ,  2.3097367 ],\n",
      "       [-2.8723772 ,  2.3070688 ],\n",
      "       [-0.8905552 , -0.35259742],\n",
      "       [ 2.1619956 , -2.0509017 ],\n",
      "       [-2.9133132 ,  2.3026803 ],\n",
      "       [ 1.5917729 , -1.56895   ],\n",
      "       [-2.4890573 ,  2.201256  ],\n",
      "       [-2.6025417 ,  2.2423341 ],\n",
      "       [ 1.9428506 , -1.930043  ],\n",
      "       [ 1.6043435 , -1.5744857 ],\n",
      "       [ 2.2191794 , -2.1540034 ],\n",
      "       [ 2.040882  , -1.906723  ],\n",
      "       [ 2.216655  , -2.1611438 ],\n",
      "       [-2.3331358 ,  2.153609  ],\n",
      "       [ 0.9745163 , -1.2790557 ],\n",
      "       [-2.8921974 ,  2.3053226 ],\n",
      "       [-2.6965816 ,  2.2501054 ],\n",
      "       [-2.9169233 ,  2.2958028 ],\n",
      "       [-2.8500564 ,  2.300998  ],\n",
      "       [-1.9721583 ,  1.9538714 ],\n",
      "       [-2.8794003 ,  2.3060107 ],\n",
      "       [-2.9094508 ,  2.3047767 ],\n",
      "       [-2.8463438 ,  2.2914026 ],\n",
      "       [-1.3457462 ,  1.3239284 ],\n",
      "       [-2.89165   ,  2.3121884 ],\n",
      "       [-2.7261136 ,  2.253526  ],\n",
      "       [-2.8670456 ,  2.3046913 ],\n",
      "       [-2.8889644 ,  2.3023274 ],\n",
      "       [ 1.3850613 , -1.5369707 ],\n",
      "       [-2.5748117 ,  2.219837  ],\n",
      "       [-2.6611128 ,  2.2413325 ],\n",
      "       [-2.8776672 ,  2.3057282 ],\n",
      "       [ 2.083742  , -2.0786982 ],\n",
      "       [ 1.4192798 , -1.4069573 ],\n",
      "       [-2.869685  ,  2.3010938 ],\n",
      "       [-2.8968093 ,  2.3106954 ],\n",
      "       [-2.8769681 ,  2.3052413 ],\n",
      "       [-2.894541  ,  2.3143783 ],\n",
      "       [-1.336989  ,  1.3098304 ],\n",
      "       [-2.8559768 ,  2.3014894 ],\n",
      "       [ 2.4062426 , -2.2089164 ],\n",
      "       [-2.8616207 ,  2.2972765 ],\n",
      "       [-1.2447885 ,  1.1549921 ],\n",
      "       [-2.8114612 ,  2.2883139 ],\n",
      "       [ 0.84162354, -1.2476264 ],\n",
      "       [-0.98565435,  0.03892286],\n",
      "       [-2.8156698 ,  2.2927208 ],\n",
      "       [-2.3434267 ,  2.1527116 ],\n",
      "       [-2.5987718 ,  2.231218  ],\n",
      "       [-2.6538975 ,  2.2363808 ],\n",
      "       [ 2.135883  , -2.0822806 ],\n",
      "       [-2.8195372 ,  2.295029  ],\n",
      "       [-2.9146569 ,  2.2986975 ],\n",
      "       [-1.2521776 ,  1.2251376 ],\n",
      "       [-2.8681684 ,  2.302762  ],\n",
      "       [-2.907735  ,  2.3034842 ],\n",
      "       [-2.5733182 ,  2.2250035 ],\n",
      "       [ 2.0957224 , -2.072059  ],\n",
      "       [ 2.2084904 , -2.163546  ],\n",
      "       [ 2.233938  , -2.2548978 ],\n",
      "       [-1.9398768 ,  1.9447852 ],\n",
      "       [-2.8670769 ,  2.3088417 ],\n",
      "       [-2.8579605 ,  2.2962558 ],\n",
      "       [-2.1193702 ,  2.062628  ],\n",
      "       [ 1.7390133 , -1.6122323 ],\n",
      "       [-0.5552223 , -0.5955794 ],\n",
      "       [ 1.272283  , -1.3740817 ],\n",
      "       [ 1.8146938 , -1.9123443 ],\n",
      "       [-2.023441  ,  1.9980103 ],\n",
      "       [-2.8508294 ,  2.3013237 ],\n",
      "       [-2.6257136 ,  2.2236302 ],\n",
      "       [-2.8952363 ,  2.3170402 ],\n",
      "       [-2.0261528 ,  2.0119116 ],\n",
      "       [-2.9162877 ,  2.2935083 ],\n",
      "       [-2.0398767 ,  2.0027735 ],\n",
      "       [-1.1944318 ,  1.3495308 ],\n",
      "       [-2.476506  ,  2.208628  ],\n",
      "       [-1.8458931 ,  1.8348817 ],\n",
      "       [-2.8988845 ,  2.3110988 ],\n",
      "       [-2.8375866 ,  2.2890923 ],\n",
      "       [-2.8635247 ,  2.30204   ],\n",
      "       [-1.3767089 ,  1.4480089 ],\n",
      "       [-2.8762329 ,  2.307222  ],\n",
      "       [-2.8614328 ,  2.3039684 ],\n",
      "       [-2.640703  ,  2.247052  ],\n",
      "       [-2.2183695 ,  2.1080184 ],\n",
      "       [-2.901147  ,  2.310316  ],\n",
      "       [-1.1270574 , -0.259161  ],\n",
      "       [-2.6631792 ,  2.2479384 ],\n",
      "       [-2.912622  ,  2.2980578 ],\n",
      "       [ 2.1554434 , -2.1262286 ],\n",
      "       [-2.8847504 ,  2.311799  ],\n",
      "       [-1.562838  ,  1.6394066 ],\n",
      "       [ 2.1130865 , -2.050794  ],\n",
      "       [-1.669026  ,  1.0104685 ],\n",
      "       [-2.9069016 ,  2.3096066 ],\n",
      "       [-1.0197228 , -0.09912313],\n",
      "       [-2.7227585 ,  2.2637918 ]], dtype=float32), label_ids=array([1, 0, 0, 1, 0, 1, 0, 1, 1, 1, 1, 0, 0, 1, 1, 1, 1, 0, 1, 0, 0, 1,\n",
      "       0, 1, 1, 1, 0, 1, 1, 1, 0, 1, 1, 1, 1, 0, 0, 0, 1, 1, 0, 1, 0, 0,\n",
      "       0, 1, 1, 0, 1, 1, 1, 1, 1, 1, 1, 1, 1, 1, 1, 1, 0, 1, 1, 1, 1, 0,\n",
      "       1, 1, 0, 1, 1, 1, 1, 1, 1, 1, 0, 1, 1, 1, 0, 1, 1, 0, 1, 0, 1, 0,\n",
      "       1, 1, 0, 1, 1, 0, 1, 1, 0, 1, 1, 1, 1, 1, 1, 1, 0, 1, 1, 0, 0, 1,\n",
      "       1, 1, 1, 1, 0, 0, 1, 1, 1, 1, 1, 1, 0, 1, 1, 1, 1, 0, 1, 1, 1, 0,\n",
      "       1, 0, 1, 1, 0, 0, 1, 0, 1, 0, 0, 1, 0, 0, 1, 1, 1, 1, 0, 1, 1, 1,\n",
      "       1, 1, 1, 0, 0, 1, 1, 1, 1, 1, 1, 1, 1, 0, 1, 0, 0, 1, 1, 1, 0, 1,\n",
      "       1, 0, 1, 1, 0, 0, 1, 1, 0, 1, 0, 1, 0, 1, 1, 0, 1, 1, 0, 1, 1, 0,\n",
      "       1, 1, 1, 0, 1, 1, 1, 0, 1, 1, 1, 0, 0, 1, 1, 0, 1, 1, 1, 1, 0, 1,\n",
      "       1, 1, 1, 0, 1, 1, 1, 1, 1, 1, 1, 1, 1, 1, 1, 0, 1, 0, 1, 0, 1, 0,\n",
      "       1, 1, 1, 1, 1, 0, 1, 1, 1, 0, 1, 0, 1, 0, 1, 1, 1, 0, 1, 0, 1, 1,\n",
      "       0, 1, 1, 0, 0, 1, 0, 1, 1, 1, 1, 1, 1, 1, 1, 0, 1, 1, 1, 0, 0, 1,\n",
      "       1, 1, 1, 1, 1, 0, 1, 1, 1, 0, 0, 0, 1, 1, 1, 1, 1, 1, 1, 1, 0, 1,\n",
      "       0, 0, 0, 1, 1, 0, 1, 0, 1, 1, 0, 0, 0, 0, 0, 1, 0, 1, 0, 1, 1, 1,\n",
      "       1, 1, 0, 1, 1, 1, 1, 0, 0, 1, 1, 1, 0, 0, 1, 1, 1, 1, 0, 1, 0, 1,\n",
      "       0, 1, 0, 0, 1, 1, 1, 1, 0, 1, 1, 0, 1, 1, 0, 1, 0, 0, 1, 1, 1, 1,\n",
      "       0, 0, 0, 0, 1, 1, 1, 1, 0, 1, 1, 0, 1, 0, 1, 1, 1, 1, 1, 1, 1, 1,\n",
      "       1, 1, 1, 1, 0, 1, 1, 0, 1, 1, 0, 1]), metrics={'test_loss': 0.5648580193519592, 'test_runtime': 3.8888, 'test_samples_per_second': 104.917, 'test_steps_per_second': 13.115})\n"
     ]
    }
   ],
   "source": [
    "print(predictions)"
   ]
  },
  {
   "cell_type": "markdown",
   "metadata": {},
   "source": [
    "The output of the predict() method is another named tuple with three fields: predictions, label_ids, and metrics. The metrics field will just contain the loss on the dataset passed, as well as some time metrics (how long it took to predict, in total and on average). Once we complete our compute_metrics() function and pass it to the Trainer, that field will also contain the metrics returned by compute_metrics().\n",
    "\n",
    "As you can see, predictions is a two-dimensional array with shape 408 x 2 (408 being the number of elements in the dataset we used). Those are the logits for each element of the dataset we passed to predict() (as you saw in the previous chapter, all Transformer models return logits). To transform them into predictions that we can compare to our labels, we need to take the index with the maximum value on the second axis:"
   ]
  },
  {
   "cell_type": "code",
   "execution_count": 11,
   "metadata": {},
   "outputs": [],
   "source": [
    "import numpy as np\n",
    "\n",
    "preds = np.argmax(predictions.predictions, axis=-1)"
   ]
  },
  {
   "cell_type": "markdown",
   "metadata": {},
   "source": [
    "We can now compare those preds to the labels. To build our compute_metric() function, we will rely on the metrics from the 🤗 Evaluate library. We can load the metrics associated with the MRPC dataset as easily as we loaded the dataset, this time with the evaluate.load() function. The object returned has a compute() method we can use to do the metric calculation:"
   ]
  },
  {
   "cell_type": "code",
   "execution_count": 13,
   "metadata": {},
   "outputs": [
    {
     "data": {
      "application/vnd.jupyter.widget-view+json": {
       "model_id": "a9d77ed0b3b747b3be9bd772e734e56c",
       "version_major": 2,
       "version_minor": 0
      },
      "text/plain": [
       "Downloading builder script: 0.00B [00:00, ?B/s]"
      ]
     },
     "metadata": {},
     "output_type": "display_data"
    },
    {
     "data": {
      "text/plain": [
       "{'accuracy': 0.8431372549019608, 'f1': 0.8907849829351536}"
      ]
     },
     "execution_count": 13,
     "metadata": {},
     "output_type": "execute_result"
    }
   ],
   "source": [
    "import evaluate\n",
    "\n",
    "metric = evaluate.load(\"glue\", \"mrpc\")\n",
    "\n",
    "metric.compute(predictions=preds, references=predictions.label_ids)"
   ]
  },
  {
   "cell_type": "markdown",
   "metadata": {},
   "source": [
    "The exact results you get may vary, as the random initialization of the model head might change the metrics it achieved. Here, we can see our model has an accuracy of 85.78% on the validation set and an F1 score of 89.97. Those are the two metrics used to evaluate results on the MRPC dataset for the GLUE benchmark. The table in the BERT paper reported an F1 score of 88.9 for the base model. That was the uncased model while we are currently using the cased model, which explains the better result."
   ]
  },
  {
   "cell_type": "markdown",
   "metadata": {},
   "source": [
    "Wrapping everything together, we get our compute_metrics() function:"
   ]
  },
  {
   "cell_type": "code",
   "execution_count": 18,
   "metadata": {},
   "outputs": [],
   "source": [
    "def compute_metrics(eval_preds):\n",
    "    metric = evaluate.load(\"glue\", \"mrpc\")\n",
    "    logits, labels = eval_preds\n",
    "    predictions = np.argmax(logits, axis=-1)\n",
    "    return metric.compute(predictions=predictions, references=labels)"
   ]
  },
  {
   "cell_type": "markdown",
   "metadata": {},
   "source": [
    "And to see it used in action to report metrics at the end of each epoch, here is how we define a new Trainer with this compute_metrics() function:"
   ]
  },
  {
   "cell_type": "code",
   "execution_count": 19,
   "metadata": {},
   "outputs": [
    {
     "name": "stderr",
     "output_type": "stream",
     "text": [
      "Some weights of BertForSequenceClassification were not initialized from the model checkpoint at bert-base-cased and are newly initialized: ['classifier.bias', 'classifier.weight']\n",
      "You should probably TRAIN this model on a down-stream task to be able to use it for predictions and inference.\n"
     ]
    }
   ],
   "source": [
    "training_args = TrainingArguments(\"models/test-trainer\", eval_strategy=\"epoch\")\n",
    "model = AutoModelForSequenceClassification.from_pretrained(checkpoint, num_labels=2)\n",
    "\n",
    "trainer = Trainer(\n",
    "    model,\n",
    "    training_args,\n",
    "    train_dataset=tokenized_datasets[\"train\"],\n",
    "    eval_dataset=tokenized_datasets[\"validation\"],\n",
    "    data_collator=data_collator,\n",
    "    processing_class=tokenizer,\n",
    "    compute_metrics=compute_metrics,\n",
    ")"
   ]
  },
  {
   "cell_type": "code",
   "execution_count": 20,
   "metadata": {},
   "outputs": [
    {
     "name": "stderr",
     "output_type": "stream",
     "text": [
      "/opt/miniconda3/envs/py3-12-LLM/lib/python3.12/site-packages/torch/utils/data/dataloader.py:683: UserWarning: 'pin_memory' argument is set as true but not supported on MPS now, then device pinned memory won't be used.\n",
      "  warnings.warn(warn_msg)\n"
     ]
    },
    {
     "data": {
      "text/html": [
       "\n",
       "    <div>\n",
       "      \n",
       "      <progress value='1377' max='1377' style='width:300px; height:20px; vertical-align: middle;'></progress>\n",
       "      [1377/1377 09:25, Epoch 3/3]\n",
       "    </div>\n",
       "    <table border=\"1\" class=\"dataframe\">\n",
       "  <thead>\n",
       " <tr style=\"text-align: left;\">\n",
       "      <th>Epoch</th>\n",
       "      <th>Training Loss</th>\n",
       "      <th>Validation Loss</th>\n",
       "      <th>Accuracy</th>\n",
       "      <th>F1</th>\n",
       "    </tr>\n",
       "  </thead>\n",
       "  <tbody>\n",
       "    <tr>\n",
       "      <td>1</td>\n",
       "      <td>No log</td>\n",
       "      <td>0.615795</td>\n",
       "      <td>0.806373</td>\n",
       "      <td>0.869421</td>\n",
       "    </tr>\n",
       "    <tr>\n",
       "      <td>2</td>\n",
       "      <td>0.568300</td>\n",
       "      <td>0.427250</td>\n",
       "      <td>0.855392</td>\n",
       "      <td>0.892532</td>\n",
       "    </tr>\n",
       "    <tr>\n",
       "      <td>3</td>\n",
       "      <td>0.378200</td>\n",
       "      <td>0.583751</td>\n",
       "      <td>0.845588</td>\n",
       "      <td>0.891938</td>\n",
       "    </tr>\n",
       "  </tbody>\n",
       "</table><p>"
      ],
      "text/plain": [
       "<IPython.core.display.HTML object>"
      ]
     },
     "metadata": {},
     "output_type": "display_data"
    },
    {
     "name": "stderr",
     "output_type": "stream",
     "text": [
      "/opt/miniconda3/envs/py3-12-LLM/lib/python3.12/site-packages/torch/utils/data/dataloader.py:683: UserWarning: 'pin_memory' argument is set as true but not supported on MPS now, then device pinned memory won't be used.\n",
      "  warnings.warn(warn_msg)\n",
      "/opt/miniconda3/envs/py3-12-LLM/lib/python3.12/site-packages/torch/utils/data/dataloader.py:683: UserWarning: 'pin_memory' argument is set as true but not supported on MPS now, then device pinned memory won't be used.\n",
      "  warnings.warn(warn_msg)\n",
      "/opt/miniconda3/envs/py3-12-LLM/lib/python3.12/site-packages/torch/utils/data/dataloader.py:683: UserWarning: 'pin_memory' argument is set as true but not supported on MPS now, then device pinned memory won't be used.\n",
      "  warnings.warn(warn_msg)\n",
      "/opt/miniconda3/envs/py3-12-LLM/lib/python3.12/site-packages/torch/utils/data/dataloader.py:683: UserWarning: 'pin_memory' argument is set as true but not supported on MPS now, then device pinned memory won't be used.\n",
      "  warnings.warn(warn_msg)\n"
     ]
    },
    {
     "data": {
      "text/plain": [
       "TrainOutput(global_step=1377, training_loss=0.41501461186959593, metrics={'train_runtime': 565.9522, 'train_samples_per_second': 19.443, 'train_steps_per_second': 2.433, 'total_flos': 419446300011600.0, 'train_loss': 0.41501461186959593, 'epoch': 3.0})"
      ]
     },
     "execution_count": 20,
     "metadata": {},
     "output_type": "execute_result"
    }
   ],
   "source": [
    "trainer.train()"
   ]
  },
  {
   "cell_type": "markdown",
   "metadata": {},
   "source": [
    "## Advanced Training Features\n",
    "\n",
    "The Trainer comes with many built-in features that make modern deep learning best practices accessible:\n",
    "\n",
    "### Mixed Precision Training: \n",
    "Use fp16=True in your training arguments for faster training and reduced memory usage:"
   ]
  },
  {
   "cell_type": "code",
   "execution_count": null,
   "metadata": {},
   "outputs": [],
   "source": [
    "training_args = TrainingArguments(\n",
    "    \"test-trainer\",\n",
    "    eval_strategy=\"epoch\",\n",
    "    fp16=True,  # Enable mixed precision\n",
    ")"
   ]
  },
  {
   "cell_type": "markdown",
   "metadata": {},
   "source": [
    "### Gradient Accumulation: \n",
    "For effective larger batch sizes when GPU memory is limited:"
   ]
  },
  {
   "cell_type": "code",
   "execution_count": null,
   "metadata": {},
   "outputs": [],
   "source": [
    "training_args = TrainingArguments(\n",
    "    \"test-trainer\",\n",
    "    eval_strategy=\"epoch\",\n",
    "    per_device_train_batch_size=4,\n",
    "    gradient_accumulation_steps=4,  # Effective batch size = 4 * 4 = 16\n",
    ")"
   ]
  },
  {
   "cell_type": "markdown",
   "metadata": {},
   "source": [
    "### Learning Rate Scheduling: \n",
    "The Trainer uses linear decay by default, but you can customize this:"
   ]
  },
  {
   "cell_type": "code",
   "execution_count": null,
   "metadata": {},
   "outputs": [],
   "source": [
    "training_args = TrainingArguments(\n",
    "    \"test-trainer\",\n",
    "    eval_strategy=\"epoch\",\n",
    "    learning_rate=2e-5,\n",
    "    lr_scheduler_type=\"cosine\",  # Try different schedulers\n",
    ")"
   ]
  },
  {
   "cell_type": "markdown",
   "metadata": {},
   "source": []
  }
 ],
 "metadata": {
  "kernelspec": {
   "display_name": "py3-12-LLM",
   "language": "python",
   "name": "python3"
  },
  "language_info": {
   "codemirror_mode": {
    "name": "ipython",
    "version": 3
   },
   "file_extension": ".py",
   "mimetype": "text/x-python",
   "name": "python",
   "nbconvert_exporter": "python",
   "pygments_lexer": "ipython3",
   "version": "3.12.11"
  }
 },
 "nbformat": 4,
 "nbformat_minor": 2
}
